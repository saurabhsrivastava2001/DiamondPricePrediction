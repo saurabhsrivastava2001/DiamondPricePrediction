{
 "cells": [
  {
   "cell_type": "code",
   "execution_count": 1,
   "metadata": {},
   "outputs": [],
   "source": [
    "import logging\n",
    "import os\n",
    "from datetime import datetime"
   ]
  },
  {
   "cell_type": "code",
   "execution_count": 2,
   "metadata": {},
   "outputs": [
    {
     "data": {
      "text/plain": [
       "datetime.datetime(2023, 11, 18, 18, 22, 26, 865401)"
      ]
     },
     "execution_count": 2,
     "metadata": {},
     "output_type": "execute_result"
    }
   ],
   "source": [
    "datetime.now()"
   ]
  },
  {
   "cell_type": "code",
   "execution_count": 3,
   "metadata": {},
   "outputs": [
    {
     "data": {
      "text/plain": [
       "'11_18_2023_18_22_26.log'"
      ]
     },
     "execution_count": 3,
     "metadata": {},
     "output_type": "execute_result"
    }
   ],
   "source": [
    "f\"{datetime.now().strftime('%m_%d_%Y_%H_%M_%S')}.log\""
   ]
  },
  {
   "cell_type": "code",
   "execution_count": 4,
   "metadata": {},
   "outputs": [
    {
     "data": {
      "text/plain": [
       "'c:\\\\Users\\\\SAURABH SRIVASTAVA\\\\Desktop\\\\firstENDTOEND\\\\notebooks'"
      ]
     },
     "execution_count": 4,
     "metadata": {},
     "output_type": "execute_result"
    }
   ],
   "source": [
    "os.getcwd()\n"
   ]
  },
  {
   "cell_type": "code",
   "execution_count": 1,
   "metadata": {},
   "outputs": [],
   "source": [
    "import sys\n",
    "sys.path.append(\"C:\\\\Users\\\\SAURABH SRIVASTAVA\\\\Desktop\\\\firstENDTOEND\\\\src\\\\DimondPricePrediction\")\n"
   ]
  },
  {
   "cell_type": "code",
   "execution_count": 2,
   "metadata": {},
   "outputs": [],
   "source": [
    "import logger"
   ]
  },
  {
   "cell_type": "code",
   "execution_count": 4,
   "metadata": {},
   "outputs": [
    {
     "name": "stdout",
     "output_type": "stream",
     "text": [
      "Package             Version\n",
      "------------------- ------------\n",
      "asttokens           2.4.1\n",
      "backcall            0.2.0\n",
      "colorama            0.4.6\n",
      "comm                0.2.0\n",
      "contourpy           1.1.1\n",
      "cycler              0.12.1\n",
      "debugpy             1.8.0\n",
      "decorator           5.1.1\n",
      "executing           2.0.1\n",
      "fonttools           4.44.3\n",
      "importlib-metadata  6.8.0\n",
      "importlib-resources 6.1.1\n",
      "ipykernel           6.26.0\n",
      "ipython             8.12.3\n",
      "jedi                0.19.1\n",
      "joblib              1.3.2\n",
      "jupyter_client      8.6.0\n",
      "jupyter_core        5.5.0\n",
      "kiwisolver          1.4.5\n",
      "matplotlib          3.7.3\n",
      "matplotlib-inline   0.1.6\n",
      "nest-asyncio        1.5.8\n",
      "numpy               1.24.4\n",
      "packaging           23.2\n",
      "pandas              2.0.3\n",
      "parso               0.8.3\n",
      "pickleshare         0.7.5\n",
      "Pillow              10.1.0\n",
      "pip                 23.3\n",
      "platformdirs        4.0.0\n",
      "prompt-toolkit      3.0.41\n",
      "psutil              5.9.6\n",
      "pure-eval           0.2.2\n",
      "Pygments            2.16.1\n",
      "pyparsing           3.1.1\n",
      "python-dateutil     2.8.2\n",
      "pytz                2023.3.post1\n",
      "pywin32             306\n",
      "pyzmq               25.1.1\n",
      "scikit-learn        1.3.2\n",
      "scipy               1.10.1\n",
      "seaborn             0.13.0\n",
      "setuptools          68.0.0\n",
      "six                 1.16.0\n",
      "stack-data          0.6.3\n",
      "threadpoolctl       3.2.0\n",
      "tornado             6.3.3\n",
      "traitlets           5.13.0\n",
      "typing_extensions   4.8.0\n",
      "tzdata              2023.3\n",
      "wcwidth             0.2.10\n",
      "wheel               0.41.2\n",
      "zipp                3.17.0\n",
      "Note: you may need to restart the kernel to use updated packages.\n"
     ]
    }
   ],
   "source": [
    "pip list"
   ]
  },
  {
   "cell_type": "code",
   "execution_count": 3,
   "metadata": {},
   "outputs": [],
   "source": [
    "logger.logging.info(\"current 3\")"
   ]
  },
  {
   "cell_type": "code",
   "execution_count": 12,
   "metadata": {},
   "outputs": [],
   "source": [
    "import sys\n",
    "\n",
    "\n",
    "class Customexception(Exception):\n",
    "    def __init__(self, error_message ,error_details:sys):\n",
    "        self.error_message = error_message\n",
    "        _,_,exe_tb = error_details.exc_info()\n",
    "        \n",
    "        self.lineno= exe_tb.tb_lineno\n",
    "        self.file_name= exe_tb.tb_frame.f_code.co_filename   \n",
    "        \n",
    "    def __str__(self):\n",
    "        return \"Error occured in python scrit name [{0}] line number [{1}] error massage [{2}]\".format(\n",
    "            self.file_name, self.lineno, self.error_message)\n",
    "    "
   ]
  },
  {
   "cell_type": "code",
   "execution_count": 13,
   "metadata": {},
   "outputs": [],
   "source": [
    "import sys"
   ]
  },
  {
   "cell_type": "code",
   "execution_count": 24,
   "metadata": {},
   "outputs": [
    {
     "name": "stdout",
     "output_type": "stream",
     "text": [
      "absolute path: C:\\Users\\SAURABH SRIVASTAVA\\AppData\\Local\\Temp\\ipykernel_1204\\2671057501.py\n",
      "line no: 2\n",
      "Error name: division by zero\n"
     ]
    }
   ],
   "source": [
    "try:\n",
    "    1/0\n",
    "except Exception as e:\n",
    "    _,_,exe_tb =sys.exc_info()\n",
    "    print(\"absolute path:\",exe_tb.tb_frame.f_code.co_filename)\n",
    "    print(\"line no:\",exe_tb.tb_lineno)\n",
    "    print(\"Error name:\",e)"
   ]
  },
  {
   "cell_type": "code",
   "execution_count": 15,
   "metadata": {},
   "outputs": [],
   "source": [
    "class customexception(Exception):\n",
    "    def __init__(self):\n",
    "        pass\n",
    "    def __str__(self):\n",
    "        pass\n",
    "    "
   ]
  },
  {
   "cell_type": "code",
   "execution_count": 16,
   "metadata": {},
   "outputs": [
    {
     "data": {
      "text/plain": [
       "(None, None, None)"
      ]
     },
     "execution_count": 16,
     "metadata": {},
     "output_type": "execute_result"
    }
   ],
   "source": [
    "sys.exc_info()"
   ]
  },
  {
   "cell_type": "code",
   "execution_count": 5,
   "metadata": {},
   "outputs": [],
   "source": [
    "l"
   ]
  },
  {
   "cell_type": "markdown",
   "metadata": {},
   "source": []
  },
  {
   "cell_type": "code",
   "execution_count": 6,
   "metadata": {},
   "outputs": [],
   "source": [
    "log.info(\"test\")"
   ]
  },
  {
   "cell_type": "code",
   "execution_count": null,
   "metadata": {},
   "outputs": [],
   "source": []
  }
 ],
 "metadata": {
  "kernelspec": {
   "display_name": "Python 3",
   "language": "python",
   "name": "python3"
  },
  "language_info": {
   "codemirror_mode": {
    "name": "ipython",
    "version": 3
   },
   "file_extension": ".py",
   "mimetype": "text/x-python",
   "name": "python",
   "nbconvert_exporter": "python",
   "pygments_lexer": "ipython3",
   "version": "3.8.18"
  }
 },
 "nbformat": 4,
 "nbformat_minor": 2
}
